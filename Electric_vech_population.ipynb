{
 "cells": [
  {
   "cell_type": "code",
   "execution_count": 0,
   "metadata": {
    "application/vnd.databricks.v1+cell": {
     "cellMetadata": {
      "byteLimit": 2048000,
      "rowLimit": 10000
     },
     "inputWidgets": {},
     "nuid": "59ac7e1f-7d5a-4c15-ba3e-509587cddf0a",
     "showTitle": false,
     "tableResultSettingsMap": {},
     "title": ""
    }
   },
   "outputs": [],
   "source": [
    "from pyspark.sql import SparkSession\n",
    "from pyspark.sql.functions import col, count, when, mean, stddev, max, min, expr, year, month, avg\n",
    "import seaborn as sns\n",
    "import matplotlib.pyplot as plt"
   ]
  },
  {
   "cell_type": "markdown",
   "metadata": {
    "application/vnd.databricks.v1+cell": {
     "cellMetadata": {},
     "inputWidgets": {},
     "nuid": "d0d656de-065c-4f8d-ac65-a6ee08e10f77",
     "showTitle": false,
     "tableResultSettingsMap": {},
     "title": ""
    }
   },
   "source": [
    "Initialize SparkSession"
   ]
  },
  {
   "cell_type": "code",
   "execution_count": 0,
   "metadata": {
    "application/vnd.databricks.v1+cell": {
     "cellMetadata": {
      "byteLimit": 2048000,
      "rowLimit": 10000
     },
     "inputWidgets": {},
     "nuid": "3e8dcc72-7ddb-4b9a-88b0-58fb74ea7074",
     "showTitle": false,
     "tableResultSettingsMap": {},
     "title": ""
    }
   },
   "outputs": [],
   "source": [
    "spark = SparkSession.builder.appName(\"EDA\").getOrCreate()"
   ]
  },
  {
   "cell_type": "markdown",
   "metadata": {
    "application/vnd.databricks.v1+cell": {
     "cellMetadata": {},
     "inputWidgets": {},
     "nuid": "109f0119-c099-4042-bb27-8ea6ef0b19ca",
     "showTitle": false,
     "tableResultSettingsMap": {},
     "title": ""
    }
   },
   "source": [
    "Load Dataset"
   ]
  },
  {
   "cell_type": "code",
   "execution_count": 0,
   "metadata": {
    "application/vnd.databricks.v1+cell": {
     "cellMetadata": {
      "byteLimit": 2048000,
      "rowLimit": 10000
     },
     "inputWidgets": {},
     "nuid": "7288b800-31f5-4228-a046-04101e024739",
     "showTitle": false,
     "tableResultSettingsMap": {},
     "title": ""
    }
   },
   "outputs": [],
   "source": [
    "file_path = \"dbfs:/FileStore/EV_Population-1.csv\"  # Replace with actual file path\n",
    "df = spark.read.format(\"csv\").option(\"header\", \"true\").option(\"inferSchema\", \"true\").load(file_path)\n"
   ]
  },
  {
   "cell_type": "markdown",
   "metadata": {
    "application/vnd.databricks.v1+cell": {
     "cellMetadata": {},
     "inputWidgets": {},
     "nuid": "38f2d134-712a-4cac-828c-0804dd8d50fe",
     "showTitle": false,
     "tableResultSettingsMap": {},
     "title": ""
    }
   },
   "source": [
    "Display Data"
   ]
  },
  {
   "cell_type": "code",
   "execution_count": 0,
   "metadata": {
    "application/vnd.databricks.v1+cell": {
     "cellMetadata": {
      "byteLimit": 2048000,
      "rowLimit": 10000
     },
     "inputWidgets": {},
     "nuid": "3f8d738e-fce6-426a-b865-ede156b6276b",
     "showTitle": false,
     "tableResultSettingsMap": {},
     "title": ""
    }
   },
   "outputs": [
    {
     "output_type": "stream",
     "name": "stdout",
     "output_type": "stream",
     "text": [
      "Data Schema:\nroot\n |-- State: string (nullable = true)\n |-- Model Year: integer (nullable = true)\n |-- Make: string (nullable = true)\n |-- Electric Vehicle Type: string (nullable = true)\n |-- Electric Range: integer (nullable = true)\n |-- Base MSRP: integer (nullable = true)\n |-- Legislative District: double (nullable = true)\n |-- CAFV Eligibility Simple: string (nullable = true)\n\nSample Data:\n+-----+----------+---------+---------------------+--------------+---------+--------------------+-----------------------+\n|State|Model Year|     Make|Electric Vehicle Type|Electric Range|Base MSRP|Legislative District|CAFV Eligibility Simple|\n+-----+----------+---------+---------------------+--------------+---------+--------------------+-----------------------+\n|   WA|      2020|    TESLA|                  BEV|           266|        0|                46.0|               Eligible|\n|   WA|      2024|      BMW|                 PHEV|            39|        0|                46.0|               Eligible|\n|   WA|      2024|      BMW|                 PHEV|            39|        0|                43.0|               Eligible|\n|   WA|      2018|    TESLA|                  BEV|           215|        0|                 1.0|               Eligible|\n|   WA|      2012|CHEVROLET|                 PHEV|            35|        0|                35.0|               Eligible|\n+-----+----------+---------+---------------------+--------------+---------+--------------------+-----------------------+\nonly showing top 5 rows\n\n"
     ]
    }
   ],
   "source": [
    "print(\"Data Schema:\")\n",
    "df.printSchema()\n",
    "print(\"Sample Data:\")\n",
    "df.show(5)"
   ]
  },
  {
   "cell_type": "code",
   "execution_count": 0,
   "metadata": {
    "application/vnd.databricks.v1+cell": {
     "cellMetadata": {},
     "inputWidgets": {},
     "nuid": "619c33a9-c196-4e89-8765-7465427b2f61",
     "showTitle": false,
     "tableResultSettingsMap": {},
     "title": ""
    }
   },
   "outputs": [],
   "source": []
  },
  {
   "cell_type": "markdown",
   "metadata": {
    "application/vnd.databricks.v1+cell": {
     "cellMetadata": {},
     "inputWidgets": {},
     "nuid": "7d1d2609-0720-4563-b657-62732758e8e0",
     "showTitle": false,
     "tableResultSettingsMap": {},
     "title": ""
    }
   },
   "source": [
    "Data Cleaning\n",
    "# Count & Remove duplicates"
   ]
  },
  {
   "cell_type": "code",
   "execution_count": 0,
   "metadata": {
    "application/vnd.databricks.v1+cell": {
     "cellMetadata": {
      "byteLimit": 2048000,
      "rowLimit": 10000
     },
     "inputWidgets": {},
     "nuid": "35bca972-9f07-42b7-8950-cfb7a38d09c4",
     "showTitle": false,
     "tableResultSettingsMap": {},
     "title": ""
    }
   },
   "outputs": [
    {
     "output_type": "stream",
     "name": "stdout",
     "output_type": "stream",
     "text": [
      "Number of Duplicate Rows: 81338\n"
     ]
    }
   ],
   "source": [
    "duplicate_count = df.count() - df.dropDuplicates().count()\n",
    "print(f\"Number of Duplicate Rows: {duplicate_count}\")\n",
    "df_cleaned = df.dropDuplicates()"
   ]
  },
  {
   "cell_type": "markdown",
   "metadata": {
    "application/vnd.databricks.v1+cell": {
     "cellMetadata": {},
     "inputWidgets": {},
     "nuid": "f4ed828b-4c33-4e42-ba0e-c1e13b6740aa",
     "showTitle": false,
     "tableResultSettingsMap": {},
     "title": ""
    }
   },
   "source": [
    "Handle Null Values\n",
    "# Count nulls in each column"
   ]
  },
  {
   "cell_type": "code",
   "execution_count": 0,
   "metadata": {
    "application/vnd.databricks.v1+cell": {
     "cellMetadata": {
      "byteLimit": 2048000,
      "rowLimit": 10000
     },
     "inputWidgets": {},
     "nuid": "ebd7bc5d-e2aa-4672-a276-d054d9e395e9",
     "showTitle": false,
     "tableResultSettingsMap": {},
     "title": ""
    }
   },
   "outputs": [
    {
     "output_type": "stream",
     "name": "stdout",
     "output_type": "stream",
     "text": [
      "Null Values per Column:\n+-----+----------+----+---------------------+--------------+---------+--------------------+-----------------------+\n|State|Model Year|Make|Electric Vehicle Type|Electric Range|Base MSRP|Legislative District|CAFV Eligibility Simple|\n+-----+----------+----+---------------------+--------------+---------+--------------------+-----------------------+\n|    0|         0|   0|                    0|             0|        0|                   0|                      0|\n+-----+----------+----+---------------------+--------------+---------+--------------------+-----------------------+\n\n"
     ]
    }
   ],
   "source": [
    "print(\"Null Values per Column:\")\n",
    "nul_counts = df_cleaned.select([count(when(col(c).isNull(), c)).alias(c) for c in df_cleaned.columns])\n",
    "nul_counts.show()\n"
   ]
  },
  {
   "cell_type": "markdown",
   "metadata": {
    "application/vnd.databricks.v1+cell": {
     "cellMetadata": {},
     "inputWidgets": {},
     "nuid": "22805095-872b-4831-a69d-f2b0c69b6bd8",
     "showTitle": false,
     "tableResultSettingsMap": {},
     "title": ""
    }
   },
   "source": [
    "Fill Null Values or Drop Rows"
   ]
  },
  {
   "cell_type": "code",
   "execution_count": 0,
   "metadata": {
    "application/vnd.databricks.v1+cell": {
     "cellMetadata": {
      "byteLimit": 2048000,
      "rowLimit": 10000
     },
     "inputWidgets": {},
     "nuid": "67e90073-8a42-419c-846f-b27e98fa2f83",
     "showTitle": false,
     "tableResultSettingsMap": {},
     "title": ""
    }
   },
   "outputs": [],
   "source": [
    "df_cleaned = df_cleaned.fillna({\"Electric Range\": 0})  # Example fill with default value of 0\n"
   ]
  },
  {
   "cell_type": "code",
   "execution_count": 0,
   "metadata": {
    "application/vnd.databricks.v1+cell": {
     "cellMetadata": {
      "byteLimit": 2048000,
      "rowLimit": 10000
     },
     "inputWidgets": {},
     "nuid": "be133433-f1a4-46de-92b5-b5212bcfd32f",
     "showTitle": false,
     "tableResultSettingsMap": {},
     "title": ""
    }
   },
   "outputs": [],
   "source": [
    "df_cleaned = df_cleaned.fillna({\"Electric Range\": 0, \"Base MSRP\": 0})\n"
   ]
  },
  {
   "cell_type": "markdown",
   "metadata": {
    "application/vnd.databricks.v1+cell": {
     "cellMetadata": {},
     "inputWidgets": {},
     "nuid": "61da815f-7d48-42c1-a610-50bed83ed27b",
     "showTitle": false,
     "tableResultSettingsMap": {},
     "title": ""
    }
   },
   "source": [
    "# Schema Conversion\n"
   ]
  },
  {
   "cell_type": "code",
   "execution_count": 0,
   "metadata": {
    "application/vnd.databricks.v1+cell": {
     "cellMetadata": {
      "byteLimit": 2048000,
      "rowLimit": 10000
     },
     "inputWidgets": {},
     "nuid": "b57148bc-e630-4e84-91fe-026234002780",
     "showTitle": false,
     "tableResultSettingsMap": {},
     "title": ""
    }
   },
   "outputs": [],
   "source": [
    "df_cleaned = df_cleaned.fillna({\"Electric Range\": 0, \"Base MSRP\": 0})  \n"
   ]
  },
  {
   "cell_type": "markdown",
   "metadata": {
    "application/vnd.databricks.v1+cell": {
     "cellMetadata": {
      "byteLimit": 2048000,
      "rowLimit": 10000
     },
     "inputWidgets": {},
     "nuid": "affd4fe9-5a6a-40d1-a374-5ba96b002dd3",
     "showTitle": false,
     "tableResultSettingsMap": {},
     "title": ""
    }
   },
   "source": [
    "Data Summarization\n",
    "# Basic Statistics"
   ]
  },
  {
   "cell_type": "code",
   "execution_count": 0,
   "metadata": {
    "application/vnd.databricks.v1+cell": {
     "cellMetadata": {
      "byteLimit": 2048000,
      "rowLimit": 10000
     },
     "inputWidgets": {},
     "nuid": "c9374277-1b91-4a1b-b862-679654dbe23c",
     "showTitle": false,
     "tableResultSettingsMap": {},
     "title": ""
    }
   },
   "outputs": [
    {
     "output_type": "stream",
     "name": "stdout",
     "output_type": "stream",
     "text": [
      "Summary Statistics:\n+-------+-----+------------------+--------------------+---------------------+-----------------+------------------+--------------------+-----------------------+\n|summary|State|        Model Year|                Make|Electric Vehicle Type|   Electric Range|         Base MSRP|Legislative District|CAFV Eligibility Simple|\n+-------+-----+------------------+--------------------+---------------------+-----------------+------------------+--------------------+-----------------------+\n|  count|11338|             11338|               11338|                11338|            11338|             11338|               11338|                  11338|\n|   mean| null| 2019.136091021344|                null|                 null|74.98862233198095| 4006.145263714941|   26.36302698888693|                   null|\n| stddev| null|3.4750717187023397|                null|                 null|81.66360558225472|17420.012335152962|  14.302290265143352|                   null|\n|    min|   WA|              1999|          ALFA ROMEO|                  BEV|                6|                 0|                 1.0|               Eligible|\n|    max|   WA|              2025|WHEEGO ELECTRIC CARS|                 PHEV|              337|            845000|                49.0|           Not Eligible|\n+-------+-----+------------------+--------------------+---------------------+-----------------+------------------+--------------------+-----------------------+\n\n"
     ]
    }
   ],
   "source": [
    "print(\"Summary Statistics:\")\n",
    "df_cleaned.describe().show()"
   ]
  },
  {
   "cell_type": "markdown",
   "metadata": {
    "application/vnd.databricks.v1+cell": {
     "cellMetadata": {},
     "inputWidgets": {},
     "nuid": "ecd2afd6-78b9-4fcf-9191-7a103e920618",
     "showTitle": false,
     "tableResultSettingsMap": {},
     "title": ""
    }
   },
   "source": [
    "# Aggregations\n"
   ]
  },
  {
   "cell_type": "code",
   "execution_count": 0,
   "metadata": {
    "application/vnd.databricks.v1+cell": {
     "cellMetadata": {
      "byteLimit": 2048000,
      "rowLimit": 10000
     },
     "inputWidgets": {},
     "nuid": "4e1c81a5-3d3b-4ee5-abd9-508f6bf01d1e",
     "showTitle": false,
     "tableResultSettingsMap": {},
     "title": ""
    }
   },
   "outputs": [],
   "source": [
    "agg_stats = df_cleaned.groupBy(\"Make\").agg(mean(\"Electric Range\").alias(\"mean_val\"),\n",
    "                                             stddev(\"Electric Range\").alias(\"std_dev\"))"
   ]
  },
  {
   "cell_type": "code",
   "execution_count": 0,
   "metadata": {
    "application/vnd.databricks.v1+cell": {
     "cellMetadata": {
      "byteLimit": 2048000,
      "rowLimit": 10000
     },
     "inputWidgets": {},
     "nuid": "ad0b3a40-4cee-4850-87f0-bc9bdf9474d4",
     "showTitle": false,
     "tableResultSettingsMap": {},
     "title": ""
    }
   },
   "outputs": [],
   "source": [
    "agg_stats = df_cleaned.groupBy(\"Make\").agg(mean(\"Electric Range\").alias(\"mean_range\"),\n",
    "                                             max(\"Base MSRP\").alias(\"max_msrp\"),\n",
    "                                             min(\"Base MSRP\").alias(\"min_msrp\"))"
   ]
  },
  {
   "cell_type": "code",
   "execution_count": 0,
   "metadata": {
    "application/vnd.databricks.v1+cell": {
     "cellMetadata": {
      "byteLimit": 2048000,
      "rowLimit": 10000
     },
     "inputWidgets": {},
     "nuid": "d6cc511e-0ef5-4c34-8d33-30ceb427d5e5",
     "showTitle": false,
     "tableResultSettingsMap": {},
     "title": ""
    }
   },
   "outputs": [
    {
     "output_type": "stream",
     "name": "stdout",
     "output_type": "stream",
     "text": [
      "Grouped Aggregations:\n+--------------------+------------------+--------+--------+\n|                Make|        mean_range|max_msrp|min_msrp|\n+--------------------+------------------+--------+--------+\n|WHEEGO ELECTRIC CARS|             100.0|   32995|   32995|\n|         LAMBORGHINI|               6.0|       0|       0|\n|             PORSCHE| 64.99774774774775|  845000|       0|\n|             HYUNDAI| 77.47165991902834|       0|       0|\n|                FIAT| 86.07272727272728|       0|       0|\n|              TOYOTA| 30.36340206185567|       0|       0|\n|              SUBARU|              17.0|   34995|   34995|\n|              NISSAN|112.59510357815442|       0|       0|\n|             BENTLEY|             22.25|       0|       0|\n|                FORD| 36.61830985915493|       0|       0|\n|                AUDI| 67.60843373493977|       0|       0|\n|                MINI| 37.34722222222222|   36900|       0|\n|          ALFA ROMEO|              33.0|       0|       0|\n|               DODGE|              32.0|       0|       0|\n|           CHEVROLET|103.71132596685082|       0|       0|\n|              JAGUAR|             234.0|       0|       0|\n|               LEXUS|           36.6875|       0|       0|\n|                JEEP|22.894495412844037|       0|       0|\n|               VOLVO|  26.0272614622057|   64950|       0|\n|               TESLA|252.61719457013575|  110950|       0|\n+--------------------+------------------+--------+--------+\nonly showing top 20 rows\n\n"
     ]
    }
   ],
   "source": [
    "print(\"Grouped Aggregations:\")\n",
    "agg_stats.show()"
   ]
  },
  {
   "cell_type": "markdown",
   "metadata": {
    "application/vnd.databricks.v1+cell": {
     "cellMetadata": {},
     "inputWidgets": {},
     "nuid": "d7098c05-a81a-4ddc-a4f1-7f057a8af6f7",
     "showTitle": false,
     "tableResultSettingsMap": {},
     "title": ""
    }
   },
   "source": [
    "#count cars by year"
   ]
  },
  {
   "cell_type": "code",
   "execution_count": 0,
   "metadata": {
    "application/vnd.databricks.v1+cell": {
     "cellMetadata": {
      "byteLimit": 2048000,
      "rowLimit": 10000
     },
     "inputWidgets": {},
     "nuid": "cffbccba-6f1c-40b0-a2bb-b56b81e91659",
     "showTitle": false,
     "tableResultSettingsMap": {},
     "title": ""
    }
   },
   "outputs": [
    {
     "output_type": "stream",
     "name": "stdout",
     "output_type": "stream",
     "text": [
      "Count of Cars by Model Year:\n+----------+-----+\n|Model Year|count|\n+----------+-----+\n|      2025|  324|\n|      2003|    1|\n|      2018| 1175|\n|      2015|  557|\n|      2023|  955|\n|      2022|  942|\n|      2013|  344|\n|      2014|  562|\n|      2019| 1181|\n|      2020| 1331|\n|      2012|  236|\n|      2016|  758|\n|      2024| 1022|\n|      2000|    5|\n|      2010|   17|\n|      2011|   94|\n|      2008|   15|\n|      2017|  915|\n|      1999|    2|\n|      2002|    2|\n+----------+-----+\nonly showing top 20 rows\n\n"
     ]
    }
   ],
   "source": [
    "if \"Model Year\" in df_cleaned.columns:\n",
    "    year_counts = df_cleaned.groupBy(\"Model Year\").count()\n",
    "    print(\"Count of Cars by Model Year:\")\n",
    "    year_counts.show()"
   ]
  },
  {
   "cell_type": "markdown",
   "metadata": {
    "application/vnd.databricks.v1+cell": {
     "cellMetadata": {},
     "inputWidgets": {},
     "nuid": "bef959dd-2bd8-4efc-81b5-c9027f3372b2",
     "showTitle": false,
     "tableResultSettingsMap": {},
     "title": ""
    }
   },
   "source": [
    "Visualization\n",
    "# Convert to Pandas for Visualizations\n"
   ]
  },
  {
   "cell_type": "code",
   "execution_count": 0,
   "metadata": {
    "application/vnd.databricks.v1+cell": {
     "cellMetadata": {
      "byteLimit": 2048000,
      "rowLimit": 10000
     },
     "inputWidgets": {},
     "nuid": "fa43c8be-3dae-4c39-be8e-991a549a6721",
     "showTitle": false,
     "tableResultSettingsMap": {},
     "title": ""
    }
   },
   "outputs": [],
   "source": [
    "pandas_df = df_cleaned.toPandas()\n"
   ]
  },
  {
   "cell_type": "markdown",
   "metadata": {
    "application/vnd.databricks.v1+cell": {
     "cellMetadata": {},
     "inputWidgets": {},
     "nuid": "1900be22-15d3-4d29-9f16-46f92cad26dc",
     "showTitle": false,
     "tableResultSettingsMap": {},
     "title": ""
    }
   },
   "source": [
    "# Distribution Plot\n"
   ]
  },
  {
   "cell_type": "code",
   "execution_count": 0,
   "metadata": {
    "application/vnd.databricks.v1+cell": {
     "cellMetadata": {
      "byteLimit": 2048000,
      "rowLimit": 10000
     },
     "inputWidgets": {},
     "nuid": "d75bf8d3-85a0-44ff-9fa6-cfba8481b7b8",
     "showTitle": false,
     "tableResultSettingsMap": {},
     "title": ""
    }
   },
   "outputs": [
    {
     "output_type": "display_data",
     "data": {
      "image/png": "[encoded data removed]"
     },
     "metadata": {
      "application/vnd.databricks.v1+output": {
       "addedWidgets": {},
       "arguments": {},
       "data": "data:image/png;base64,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\n",
       "datasetInfos": [],
       "metadata": {},
       "removedWidgets": [],
       "type": "image"
      }
     },
     "output_type": "display_data"
    }
   ],
   "source": [
    "sns.histplot(pandas_df['Electric Range'], kde=True)\n",
    "plt.title('Distribution of Electric Range')\n",
    "plt.show()\n"
   ]
  },
  {
   "cell_type": "markdown",
   "metadata": {
    "application/vnd.databricks.v1+cell": {
     "cellMetadata": {},
     "inputWidgets": {},
     "nuid": "1f2d07d3-2f46-4cbd-8a7f-ce97ca13ed6b",
     "showTitle": false,
     "tableResultSettingsMap": {},
     "title": ""
    }
   },
   "source": [
    "#Distribution of Electric Range"
   ]
  },
  {
   "cell_type": "code",
   "execution_count": 0,
   "metadata": {
    "application/vnd.databricks.v1+cell": {
     "cellMetadata": {
      "byteLimit": 2048000,
      "rowLimit": 10000
     },
     "inputWidgets": {},
     "nuid": "c833055b-ef42-4034-b1e7-44c1b3ba023d",
     "showTitle": false,
     "tableResultSettingsMap": {},
     "title": ""
    }
   },
   "outputs": [
    {
     "output_type": "display_data",
     "data": {
      "image/png": "[encoded data removed]"
     },
     "metadata": {
      "application/vnd.databricks.v1+output": {
       "addedWidgets": {},
       "arguments": {},
       "data": "data:image/png;base64,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\n",
       "datasetInfos": [],
       "metadata": {},
       "removedWidgets": [],
       "type": "image"
      }
     },
     "output_type": "display_data"
    }
   ],
   "source": [
    "sns.histplot(pandas_df['Electric Range'], kde=True, color='blue')\n",
    "plt.title('Distribution of Electric Range')\n",
    "plt.xlabel('Electric Range')\n",
    "plt.ylabel('Frequency')\n",
    "plt.show()"
   ]
  },
  {
   "cell_type": "markdown",
   "metadata": {
    "application/vnd.databricks.v1+cell": {
     "cellMetadata": {},
     "inputWidgets": {},
     "nuid": "069b1a83-4c8c-493b-a182-8344d45c5937",
     "showTitle": false,
     "tableResultSettingsMap": {},
     "title": ""
    }
   },
   "source": [
    " Boxplot of Base MSRP"
   ]
  },
  {
   "cell_type": "code",
   "execution_count": 0,
   "metadata": {
    "application/vnd.databricks.v1+cell": {
     "cellMetadata": {
      "byteLimit": 2048000,
      "rowLimit": 10000
     },
     "inputWidgets": {},
     "nuid": "0b32227e-4987-413f-aa68-999bc831a334",
     "showTitle": false,
     "tableResultSettingsMap": {},
     "title": ""
    }
   },
   "outputs": [
    {
     "output_type": "display_data",
     "data": {
      "image/png": "[encoded data removed]"
     },
     "metadata": {
      "application/vnd.databricks.v1+output": {
       "addedWidgets": {},
       "arguments": {},
       "data": "data:image/png;base64,iVBORw0KGgoAAAANSUhEUgAAAWAAAAEWCAYAAABYGk2QAAAAOXRFWHRTb2Z0d2FyZQBNYXRwbG90bGliIHZlcnNpb24zLjUuMSwgaHR0cHM6Ly9tYXRwbG90bGliLm9yZy/YYfK9AAAACXBIWXMAAAsTAAALEwEAmpwYAAAT30lEQVR4nO3debReVXnH8e+TiSFACCYgEEowsUwOEGKFllqKE0YDInZVxEUYKsUsbZHWKqAuXTFYRxQ0ItgaMBZUBgVsSylVcUQTZJREEgGZE0AMYJRInv5x9g2Hy703A/d9983l+1nrrLxnn2Gfs+/J793vPu89NzITSVL3jah9AJL0XGUAS1IlBrAkVWIAS1IlBrAkVWIAS1IlBrCelYjIiJjahXoiIr4cEb+JiJ92uj6pGwzgYSIi7oiIVRHxWAmpb0fELrWPq0dEHBMRP3gWuzgQeDUwKTP/rJ/9P1nO/7GI+FVEvONZ1LdRyhvS8ogY1SobXcqyVbZ3RPxPRDwcEY9ExKKImFGWHRQRa8p5PBoRSyLi2D7qebysc09EfDoiRnbvTDUYDODhZWZmbgXsCDwAnFX5eAbTrsAdmfn4AOv8ODO3Km1wBPDxiNi3O4f3NL8BXteaf10pa7scuAp4PrA98A/Aytbye8t5bAO8Gzg3InbvtY+XlnVeCbwVePugnYG6wgAehjLz98BFwF49ZRExLiLOj4gVEXFnRLw/IkZExHYRcXdEzCzrbRURSyPi6DI/PyLOjoirSm/sexGxa1/1DlDHnsDZwAGlx/ZIP9vvFBGXlV7h0oh4eyk/HvhSa/sPr0cb/By4Fdiztf9vRMT9EfHbiLgmIvZuLZsREb8o53hPRPxza9kbIuL60lP9UUS8ZB3VfwU4ujV/NHB+a38TgN2AczPziTL9MDOf8QkhG/8JPAz0WW9mLga+D7xoHceloSYznYbBBNwBvKq83hI4Dzi/tfx84FvA1sBk4JfA8WXZa4D7aXpi5wIXtbabDzwKvALYDPgs8IPW8gSmrkcdx7S36+ccrgHmAZsD+wArgIPXZ/vey4GXAY8Af9oqO64c22bAZ4DrW8vuA/6yvB4PTCuv9wWWAy8HRgKzSltv1s9xJE0QPgBsW/b1QCnLsk4AtwFXAG8Edui1j4OAu8vrEcChwBpg337afa/y8zu+9nXotGFT9QNwGqQfZBMKj5XQWQ3cC7y4LBsJPAHs1Vr/74HvtubPAm4C7gGe1yqfD1zYmt8KeBLYpcwnMHVddaxHgO5S9rt1q+yjwPz13P4Y4I/l/B8tx3UWEP2sv21ZZ1yZ/3U53m16rfcFYE6vsiXAX/Wz3572+FLZ34k0b2pTewK4rDcJ+BywrITrNcALy7KDStkjwB9Ku5zURz0raYY2lgEfAUbUvg6dNmxyCGJ4eWNmbkvTg3wn8L2IeD4wARgN3Nla905g59b8OTS9tPmZ+VCv/d7V8yIzH6P5OLxTr3XWp46B7AQ8nJmPbuT2AD/JzG0zc2uasdW9gdMBImJkRPxrRCyLiJU0b1g9xw3NmPEM4M4yzHJAKd8V+Kcy/PBIGT7ZhWeef2/n0ww9PG34oUdm3p2Z78zMKaWOx3utd2/5WW4DnAkc3Ecd0zJzfGZOycz3Z+aadRyThhgDeBjKzCcz8xKantOBwIM0veL22O2f0PR2KXfPz6EJgNl9fK1s7bcpImIrYDuaHnbbgHXQ9NgGci+wXURs3c/2GyQzHwAuBmaWorcChwGvAsbRDJFAMxxAZv4sMw+jGYb5JvD1svwuYG4J9p5py8y8YB2H8H2am6E7AAN++yMz7wI+Tx9juJn5B+C9wIsj4o3rqFObGAN4GCrfmT2MZvzx1sx8kiZQ5kbE1uUm2snAgrLJqTQBeRzwCeD8Xl9pmhERB0bEGGAOTU/zrtZy1qOOB4BJZR/PUPb3I+CjEbF5udF1fGv7DW2D5wGHA7eUoq1pPs4/RDNGfnpr3TERcVREjMvM1TQf7Xt6k+cCJ0bEy0u7jo2I1/d6o+jrfJIm/A8tr9vHNj4iPhwRU8tNygk0bf+Tfvb1BPAp4IMb1Aga+mqPgTgNzkTzkXoVzTjwo8DNwFGt5eNpwmwFTa/ugzRvwPvRjCP23NAZCfwQOK3Mz6f5BsNVZd/XALu19tu+GdRnHWXZGODbNMMXD/ZzDpNobkw9TDOueWJr2TGsewz4yXKMj9HcOLsA2L4s34rmBuGjNEMbR/PUeO0Y4L9LO6wEfgYc2Nr3IaXsEZqbdd+gNVbd6zjWtkev8rVjwMBYmpukd5Rjvb8c685l+UGUm3Ct7bek+ZQxc6B6nDatKcoPU+pTRMynCYP31z4WabhxCEKSKjGAJakShyAkqRJ7wJJUyah1r/KUCRMm5OTJkzt0KJI0PC1atOjBzJzYu3yDAnjy5MksXLhw8I5Kkp4DIuLOvsodgpCkSgxgSarEAJakSgxgSarEAJakSgxgSarEAJakSgxgSarEAJakSgxgSarEAJakSgxgSarEAJakSgxgSarEAJakSgxgSarEAJakSgxgSarEAJakSroSwHPnzmXu3LndqEqSNhldCeBLL72USy+9tBtVSdImwyEISarEAJakSgxgSarEAJakSgxgSarEAJakSgxgSarEAJakSgxgSarEAJakSgxgSarEAJakSgxgSarEAJakSgxgSarEAJakSgxgSarEAJakSgxgSarEAJakSgxgSarEAJakSgxgSarEAJakSgxgSarEAJakSgxgSarEAJakSgxgSarEAJakSgxgSarEAJakSgxgSarEAJakSgxgSarEAJakSgxgSarEAJakSgxgSarEAJakSgxgSarEAJakSkZ1o5LHH3+8G9VI0ialKwG8Zs2ablQjSZsUhyAkqRIDWJIqMYAlqRIDWJIqMYAlqRIDWJIqMYAlqRIDWJIqMYAlqRIDWJIqMYAlqRIDWJIqMYAlqRIDWJIqMYAlqRIDWJIqMYAlqRIDWJIqMYAlqRIDWJIqMYAlqRIDWJIqMYAlqRIDWJIqMYAlqRIDWJIqMYAlqRIDWJIqMYAlqRIDWJIqMYAlqRIDWJIqMYAlqRIDWJIqMYAlqRIDWJIqMYAlqRIDWJIqGVX7AHrbfffdB2U/W2yxBatWrWLq1KkcfPDBnHPOOQDsscceRAS33norAFOmTGHZsmUATJs2jQsuuGBQ6u/LnDlzWLBgAbNmzeLUU0/tWD2SBs/y5cs5+eSTOeOMM5g4ceKg7nvY9oBXrVoFwNKlS9eGL8DixYvXhi+wNnwBrrvuuo4e04IFCwA477zzOlqPpMEzb948Fi5cyLx58wZ930MqgAer9/tsHHnkkR3Z75w5c542f/rpp3ekHkmDZ/ny5VxyySVkJhdffDErVqwY1P0PqQAeCjrVC+7p/fawFywNffPmzWPNmjUArFmzZtB7wesM4Ig4ISIWRsTCwU5/SRrKLr/8clavXg3A6tWrueyyywZ1/+sM4Mw8JzOnZ+b0wR6AlqShbObMmYwePRqA0aNHc+ihhw7q/h2C6GXatGkd2e/b3va2p83PmjWrI/VIGjyzZ89mxIgmJkeMGMHs2bMHdf9DKoCXLFlS+xA69jW0D3zgA0+b92to0tC3/fbb86Y3vYmI4IgjjvBraOtriy22AGDq1KmccMIJa8v32GMP9txzz7XzU6ZMWfu6U73fHj29YHu/0qZj9uzZTJ8+fdB7vwCRmeu98vTp03PhwoUbXEnP18uGQg9XkrotIhZl5vTe5cO2ByxJQ50BLEmVGMCSVIkBLEmVGMCSVIkBLEmVGMCSVIkBLEmVGMCSVIkBLEmVGMCSVIkBLEmVGMCSVIkBLEmVGMCSVIkBLEmVGMCSVIkBLEmVGMCSVIkBLEmVGMCSVIkBLEmVGMCSVIkBLEmVGMCSVIkBLEmVGMCSVIkBLEmVGMCSVIkBLEmVGMCSVIkBLEmVGMCSVIkBLEmVGMCSVIkBLEmVGMCSVIkBLEmVjOpGJSNGmPOS1FtXAnjs2LHdqEaSNil2TSWpEgNYkioxgCWpEgNYkioxgCWpEgNYkioxgCWpEgNYkioxgCWpEgNYkioxgCWpEgNYkioxgCWpEgNYkioxgCWpEgNYkioxgCWpEgNYkioxgCWpEgNYkioxgCWpEgNYkioxgCWpEgNYkioxgCWpEgNYkioxgCWpEgNYkioxgCWpEgNYkioxgCWpEgNYkioxgCWpEgNYkioxgCWpEgNYkioxgCWpEgNYkioxgCWpEgNYkioxgCWpklHdqOTwww/vRjWStEnpSgCfdtpp3ahGkjYpDkFIUiUGsCRVYgBLUiUGsCRVYgBLUiUGsCRVYgBLUiUGsCRVYgBLUiUGsCRVYgBLUiUGsCRVYgBLUiUGsCRVYgBLUiUGsCRVYgBLUiUGsCRVYgBLUiUGsCRVEpm5/itHrADu3Mi6JgAPbuS2zwW2z8Bsn4HZPgOr3T67ZubE3oUbFMDPRkQszMzpXalsE2T7DMz2GZjtM7Ch2j4OQUhSJQawJFXSzQA+p4t1bYpsn4HZPgOzfQY2JNuna2PAkqSncwhCkioxgCWpko4HcEQcEhFLImJpRLyv0/V1W0TsEhHfiYhfRMQtEfGPpXy7iLgqIm4r/44v5RERZ5b2uDEiprX2Nausf1tEzGqV7xcRN5VtzoyIGKiOoSgiRkbEzyPiijK/W0RcW87paxExppRvVuaXluWTW/s4pZQviYjXtsr7vMb6q2OoiYhtI+KiiFgcEbdGxAFeP0+JiHeX/1s3R8QFEbH5sLl+MrNjEzASWAa8ABgD3ADs1ck6uz0BOwLTyuutgV8CewEfB95Xyt8HfKy8ngH8FxDA/sC1pXw74Ffl3/Hl9fiy7Kdl3Sjbvq6U91nHUJyAk4H/AK4o818H3lJenw28o7yeDZxdXr8F+Fp5vVe5fjYDdivX1ciBrrH+6hhqE3Ae8Hfl9RhgW6+ftW2zM3A7sEXrZ3rMcLl+Ot14BwBXtuZPAU6p/UPt8Dl/C3g1sATYsZTtCCwpr78IHNlaf0lZfiTwxVb5F0vZjsDiVvna9fqrY6hNwCTgauBg4IoSBA8Co3pfJ8CVwAHl9aiyXvS+dnrW6+8aG6iOoTQB40rARK9yr59cG8B30byxjCrXz2uHy/XT6SGInsbrcXcpG5bKx519gWuBHTLzvrLofmCH8rq/Nhmo/O4+yhmgjqHmM8C/AGvK/POARzLzj2W+fU5r26Es/21Zf0PbbaA6hpLdgBXAl8sQzZciYixePwBk5j3AJ4FfA/fRXA+LGCbXjzfhBklEbAVcDJyUmSvby7J5C+3o9/26UcfGiIg3AMszc1HtYxmiRgHTgC9k5r7A4zTDAWs9x6+f8cBhNG9UOwFjgUOqHtQg6nQA3wPs0pqfVMqGlYgYTRO+X83MS0rxAxGxY1m+I7C8lPfXJgOVT+qjfKA6hpK/AA6NiDuAC2mGIT4LbBsRo8o67XNa2w5l+TjgITa83R4aoI6h5G7g7sy8tsxfRBPIXj+NVwG3Z+aKzFwNXEJzTQ2L66fTAfwz4IXlbuIYmkHxyzpcZ1eVO8r/BtyamZ9uLboM6LkTPYtmbLin/OhyN3t/4LflY+CVwGsiYnx5138NzZjTfcDKiNi/1HV0r331VceQkZmnZOakzJxM8/P/v8w8CvgO8OayWu/26TmnN5f1s5S/pdzl3g14Ic3NpT6vsbJNf3UMGZl5P3BXROxeil4J/AKvnx6/BvaPiC3L8fe0z/C4frowiD6D5psBy4DTag7od+j8DqT56HYjcH2ZZtCMIV0N3Ab8L7BdWT+Az5f2uAmY3trXccDSMh3bKp8O3Fy2+RxP/QZjn3UM1Qk4iKe+BfECmv8AS4FvAJuV8s3L/NKy/AWt7U8rbbCEcid/oGusvzqG2gTsAyws19A3ab7F4PXz1PF/GFhczuErNN9kGBbXj7+KLEmVeBNOkioxgCWpEgNYkioxgCWpEgNYkioxgNUxEfFkRFwfETdExHUR8ecdrOtDEZERMbVVdlIpm17mjytPBbuxPFnrsFI+PyJubx3rK1v7+G55UtYNEfHD1vd1pWfNAFYnrcrMfTLzpTQPOPloh+u7ieaL9D3+BrgFICIm0XwP9MDMfAnN08FubK37nszcBziJ5slXbUeVczgP+ERHjlzPSQawumUb4DfQPDcjIq4uveKbWj3RsRHx7dLbvDki/raU7xcR34uIRRFxZc+vz/bhmzTPDSAiptA8iOXBsmx74FHgMYDMfCwzb+9jHz+m/4euXANM7WeZtMFGrXsVaaNtERHX0/x20o40z4EA+D1weGaujIgJwE8i4jKah6zcm5mvB4iIceU5G2cBh2XmihLKc2l+66u3lTS/1vsimiD+GnBsWXYD8ABwe0RcDVySmZf3sY9DaIK8LzNpetnSoDCA1Umrysd6IuIA4PwSjgGcHhGvoHlE5c40j0K8CfhURHyM5leWv1/WfxFwVfMoAEbSPJawPxfSDEO8lua5AccCZOaTEXEI8LJSfkZE7JeZHyrbfSIiTqd56MoBvfb51YhYBdwBvGsj20J6BgNYXZGZPy693Yk0v3s/EdgvM1eXJ6Vtnpm/jOZP7MwAPlJ6qpcCt2Rm71DszxU047QLSw+7fQxJ87v9P42Iq4AvAx8qi9+TmRdFxLuAfwf2a+3zqMxcuFEnLg3AMWB1RUTsQdN7fYjmEYHLS/j+NbBrWWcn4HeZuYAmRKfRPDhlYulBExGjI2Lv/urJzN8B76UZpmjXv1O0/n4azQNw7uxjF58DRkTrb4ZJnWIPWJ3UMwYMzbDDrDIU8FXg8oi4ieYpYIvLOi+mGQpYA6ym+RtcT0TEm4EzI2IczTX7Gcq3G/qSmRf2UTwa+GQJ+d/T/BWKE/vYNiPiIzR/wePKDT1haUP4NDRJqsQhCEmqxACWpEoMYEmqxACWpEoMYEmqxACWpEoMYEmq5P8BwXN1/Vbd1FwAAAAASUVORK5CYII=\n",
       "datasetInfos": [],
       "metadata": {},
       "removedWidgets": [],
       "type": "image"
      }
     },
     "output_type": "display_data"
    }
   ],
   "source": [
    "sns.boxplot(x=pandas_df['Base MSRP'], color='green')\n",
    "plt.title('Boxplot of Base MSRP')\n",
    "plt.show()"
   ]
  },
  {
   "cell_type": "markdown",
   "metadata": {
    "application/vnd.databricks.v1+cell": {
     "cellMetadata": {},
     "inputWidgets": {},
     "nuid": "fee58c00-1419-4e47-a701-0fe79038aeb3",
     "showTitle": false,
     "tableResultSettingsMap": {},
     "title": ""
    }
   },
   "source": [
    "Count Plot of Make"
   ]
  },
  {
   "cell_type": "code",
   "execution_count": 0,
   "metadata": {
    "application/vnd.databricks.v1+cell": {
     "cellMetadata": {
      "byteLimit": 2048000,
      "rowLimit": 10000
     },
     "inputWidgets": {},
     "nuid": "fa92b638-c737-486c-bdc2-3489ab6d4a3a",
     "showTitle": false,
     "tableResultSettingsMap": {},
     "title": ""
    }
   },
   "outputs": [
    {
     "output_type": "display_data",
     "data": {
      "image/png": "[encoded data removed]"
     },
     "metadata": {
      "application/vnd.databricks.v1+output": {
       "addedWidgets": {},
       "arguments": {},
       "data": "data:image/png;base64,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\n",
       "datasetInfos": [],
       "metadata": {},
       "removedWidgets": [],
       "type": "image"
      }
     },
     "output_type": "display_data"
    }
   ],
   "source": [
    "sns.countplot(y=\"Make\", data=pandas_df, order=pandas_df['Make'].value_counts().index)\n",
    "plt.title('Count of Cars by Make')\n",
    "plt.show()"
   ]
  },
  {
   "cell_type": "markdown",
   "metadata": {
    "application/vnd.databricks.v1+cell": {
     "cellMetadata": {},
     "inputWidgets": {},
     "nuid": "c51c2813-fb1e-45b8-abd0-9f15336e1c67",
     "showTitle": false,
     "tableResultSettingsMap": {},
     "title": ""
    }
   },
   "source": [
    "Outlier Detection\n",
    "# Boxplot for Outliers"
   ]
  },
  {
   "cell_type": "code",
   "execution_count": 0,
   "metadata": {
    "application/vnd.databricks.v1+cell": {
     "cellMetadata": {
      "byteLimit": 2048000,
      "rowLimit": 10000
     },
     "inputWidgets": {},
     "nuid": "e6ed0f64-1a74-4fc9-b395-0439443e760d",
     "showTitle": false,
     "tableResultSettingsMap": {},
     "title": ""
    }
   },
   "outputs": [
    {
     "output_type": "display_data",
     "data": {
      "image/png": "[encoded data removed]"
     },
     "metadata": {
      "application/vnd.databricks.v1+output": {
       "addedWidgets": {},
       "arguments": {},
       "data": "data:image/png;base64,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\n",
       "datasetInfos": [],
       "metadata": {},
       "removedWidgets": [],
       "type": "image"
      }
     },
     "output_type": "display_data"
    }
   ],
   "source": [
    "sns.boxplot(x=pandas_df['Electric Range'])\n",
    "plt.title('Boxplot of Electric Range')\n",
    "plt.show()"
   ]
  },
  {
   "cell_type": "markdown",
   "metadata": {
    "application/vnd.databricks.v1+cell": {
     "cellMetadata": {},
     "inputWidgets": {},
     "nuid": "4655190a-51cb-4642-8725-1661ca85a3bb",
     "showTitle": false,
     "tableResultSettingsMap": {},
     "title": ""
    }
   },
   "source": [
    " Data Transformation\n",
    "# Add a Derived Column"
   ]
  },
  {
   "cell_type": "code",
   "execution_count": 0,
   "metadata": {
    "application/vnd.databricks.v1+cell": {
     "cellMetadata": {
      "byteLimit": 2048000,
      "rowLimit": 10000
     },
     "inputWidgets": {},
     "nuid": "f66d3ef6-572e-46e6-9f80-442078b9b0ee",
     "showTitle": false,
     "tableResultSettingsMap": {},
     "title": ""
    }
   },
   "outputs": [],
   "source": [
    "df_transformed = df_cleaned.withColumn(\"new_column\", col(\"Electric Range\") * 10)\n"
   ]
  },
  {
   "cell_type": "code",
   "execution_count": 0,
   "metadata": {
    "application/vnd.databricks.v1+cell": {
     "cellMetadata": {
      "byteLimit": 2048000,
      "rowLimit": 10000
     },
     "inputWidgets": {},
     "nuid": "efe54bc7-5376-4cf5-af26-86a8908999cc",
     "showTitle": false,
     "tableResultSettingsMap": {},
     "title": ""
    }
   },
   "outputs": [],
   "source": [
    "df_transformed = df_cleaned.withColumn(\"MSRP_Range\", expr(\"`Base MSRP` * `Electric Range` / 100\"))\n"
   ]
  },
  {
   "cell_type": "code",
   "execution_count": 0,
   "metadata": {
    "application/vnd.databricks.v1+cell": {
     "cellMetadata": {
      "byteLimit": 2048000,
      "rowLimit": 10000
     },
     "inputWidgets": {},
     "nuid": "6b87a5d1-ee1d-40f2-86d0-0b56ab7be220",
     "showTitle": false,
     "tableResultSettingsMap": {},
     "title": ""
    }
   },
   "outputs": [
    {
     "output_type": "stream",
     "name": "stdout",
     "output_type": "stream",
     "text": [
      "+---------+----------+--------------+---------+----------+\n|     Make|Model Year|Electric Range|Base MSRP|MSRP_Range|\n+---------+----------+--------------+---------+----------+\n|    TESLA|      2018|           249|        0|       0.0|\n|CHEVROLET|      2014|            38|        0|       0.0|\n|   NISSAN|      2020|           149|        0|       0.0|\n|   TOYOTA|      2017|            25|        0|       0.0|\n|   NISSAN|      2013|            75|        0|       0.0|\n+---------+----------+--------------+---------+----------+\nonly showing top 5 rows\n\n"
     ]
    }
   ],
   "source": [
    "final_df = df_transformed.select(\"Make\", \"Model Year\", \"Electric Range\", \"Base MSRP\", \"MSRP_Range\")\n",
    "final_df.show(5)"
   ]
  },
  {
   "cell_type": "markdown",
   "metadata": {
    "application/vnd.databricks.v1+cell": {
     "cellMetadata": {},
     "inputWidgets": {},
     "nuid": "838bdecb-0e83-4330-8d48-fbfe4f6bbe20",
     "showTitle": false,
     "tableResultSettingsMap": {},
     "title": ""
    }
   },
   "source": [
    "Correlation Analysis\n",
    "# Pairwise correlation between numerical features"
   ]
  },
  {
   "cell_type": "code",
   "execution_count": 0,
   "metadata": {
    "application/vnd.databricks.v1+cell": {
     "cellMetadata": {
      "byteLimit": 2048000,
      "rowLimit": 10000
     },
     "inputWidgets": {},
     "nuid": "c2917c8b-c6d9-4f33-9936-4675749d2893",
     "showTitle": false,
     "tableResultSettingsMap": {},
     "title": ""
    }
   },
   "outputs": [
    {
     "output_type": "stream",
     "name": "stdout",
     "output_type": "stream",
     "text": [
      "Correlation between Model Year and Electric Range: -0.16239851894129512\nCorrelation between Model Year and Base MSRP: -0.19480038195268398\nCorrelation between Model Year and Legislative District: 0.002338827880396423\nCorrelation between Electric Range and Model Year: -0.1623985189412951\nCorrelation between Electric Range and Base MSRP: 0.023939469373412525\nCorrelation between Electric Range and Legislative District: -0.01299249408443137\nCorrelation between Base MSRP and Model Year: -0.19480038195268393\nCorrelation between Base MSRP and Electric Range: 0.02393946937341253\nCorrelation between Base MSRP and Legislative District: 0.01199839011232686\nCorrelation between Legislative District and Model Year: 0.0023388278803966674\nCorrelation between Legislative District and Electric Range: -0.012992494084431374\nCorrelation between Legislative District and Base MSRP: 0.011998390112326857\n"
     ]
    }
   ],
   "source": [
    "numerical_columns = [c[0] for c in df_cleaned.dtypes if c[1] in ['int', 'double']]\n",
    "\n",
    "for col_name in numerical_columns:\n",
    "    for other_col in numerical_columns:\n",
    "        if col_name != other_col:\n",
    "            corr = df_cleaned.stat.corr(col_name, other_col)\n",
    "            print(f\"Correlation between {col_name} and {other_col}: {corr}\")\n"
   ]
  },
  {
   "cell_type": "markdown",
   "metadata": {
    "application/vnd.databricks.v1+cell": {
     "cellMetadata": {},
     "inputWidgets": {},
     "nuid": "af364aa7-017e-4485-8f93-76649efd489b",
     "showTitle": false,
     "tableResultSettingsMap": {},
     "title": ""
    }
   },
   "source": [
    "Save Cleaned Data"
   ]
  },
  {
   "cell_type": "code",
   "execution_count": 0,
   "metadata": {
    "application/vnd.databricks.v1+cell": {
     "cellMetadata": {
      "byteLimit": 2048000,
      "rowLimit": 10000
     },
     "inputWidgets": {},
     "nuid": "b8d92d3b-18fd-4104-830c-536f828c87d7",
     "showTitle": false,
     "tableResultSettingsMap": {},
     "title": ""
    }
   },
   "outputs": [],
   "source": [
    "df_transformed.write.format(\"parquet\").mode(\"overwrite\").save(\"/dbfs/FileStore/data/cleaned_data.parquet\")\n"
   ]
  },
  {
   "cell_type": "code",
   "execution_count": 0,
   "metadata": {
    "application/vnd.databricks.v1+cell": {
     "cellMetadata": {},
     "inputWidgets": {},
     "nuid": "a583e412-3828-4c7c-9b65-a2478121fd28",
     "showTitle": false,
     "tableResultSettingsMap": {},
     "title": ""
    }
   },
   "outputs": [],
   "source": []
  }
 ],
 "metadata": {
  "application/vnd.databricks.v1+notebook": {
   "computePreferences": null,
   "dashboards": [],
   "environmentMetadata": {
    "base_environment": "",
    "client": "1"
   },
   "language": "python",
   "notebookMetadata": {
    "pythonIndentUnit": 4
   },
   "notebookName": "Electric_vech_population",
   "widgets": {}
  }
 },
 "nbformat": 4,
 "nbformat_minor": 0
}
